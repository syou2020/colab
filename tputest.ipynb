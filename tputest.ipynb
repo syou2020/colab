{
  "nbformat": 4,
  "nbformat_minor": 0,
  "metadata": {
    "colab": {
      "name": "tputest.ipynb",
      "version": "0.3.2",
      "provenance": [],
      "include_colab_link": true
    },
    "kernelspec": {
      "name": "python3",
      "display_name": "Python 3"
    },
    "accelerator": "TPU"
  },
  "cells": [
    {
      "cell_type": "markdown",
      "metadata": {
        "id": "view-in-github",
        "colab_type": "text"
      },
      "source": [
        "<a href=\"https://colab.research.google.com/github/syou2020/colab/blob/master/tputest.ipynb\" target=\"_parent\"><img src=\"https://colab.research.google.com/assets/colab-badge.svg\" alt=\"Open In Colab\"/></a>"
      ]
    },
    {
      "metadata": {
        "id": "9hyVfPuKhHJi",
        "colab_type": "code",
        "colab": {}
      },
      "cell_type": "code",
      "source": [
        "import os\n",
        "import pprint\n",
        "import tensorflow as tf\n",
        "\n",
        "if 'COLAB_TPU_ADDR' not in os.environ:\n",
        "  print('ERROR: Not connected to a TPU runtime; please see the first cell in this notebook for instructions!')\n",
        "else:\n",
        "  tpu_address = 'grpc://' + os.environ['COLAB_TPU_ADDR']\n",
        "  print ('TPU address is', tpu_address)\n",
        "\n",
        "  with tf.Session(tpu_address) as session:\n",
        "    devices = session.list_devices()\n",
        "    \n",
        "  print('TPU devices:')\n",
        "  pprint.pprint(devices)"
      ],
      "execution_count": 0,
      "outputs": []
    },
    {
      "metadata": {
        "id": "n0nURis-k5YX",
        "colab_type": "code",
        "colab": {
          "base_uri": "https://localhost:8080/",
          "height": 107
        },
        "outputId": "f1a89287-0216-4d1c-dc11-237ab671306b"
      },
      "cell_type": "code",
      "source": [
        "# TFLearnのインストール\n",
        "!pip install tflearn"
      ],
      "execution_count": 2,
      "outputs": [
        {
          "output_type": "stream",
          "text": [
            "Requirement already satisfied: tflearn in /usr/local/lib/python3.6/dist-packages (0.3.2)\n",
            "Requirement already satisfied: numpy in /usr/local/lib/python3.6/dist-packages (from tflearn) (1.14.6)\n",
            "Requirement already satisfied: six in /usr/local/lib/python3.6/dist-packages (from tflearn) (1.11.0)\n",
            "Requirement already satisfied: Pillow in /usr/local/lib/python3.6/dist-packages (from tflearn) (4.0.0)\n",
            "Requirement already satisfied: olefile in /usr/local/lib/python3.6/dist-packages (from Pillow->tflearn) (0.46)\n"
          ],
          "name": "stdout"
        }
      ]
    },
    {
      "metadata": {
        "id": "OwzO0w80ir4n",
        "colab_type": "code",
        "colab": {
          "base_uri": "https://localhost:8080/",
          "height": 89
        },
        "outputId": "45d1c812-bef1-4dc7-ae98-86984d35cfa7"
      },
      "cell_type": "code",
      "source": [
        "# 使用するライブラリのインポート\n",
        "import tflearn\n",
        "import tflearn.datasets.mnist as mnist\n",
        "import tensorflow as tf\n",
        "import numpy as np\n",
        " \n",
        "# MNISTのデータを./mnistへダウンロード＆各変数へ値を格納\n",
        "X,Y,testX,testY = mnist.load_data('mnist',one_hot=True)"
      ],
      "execution_count": 3,
      "outputs": [
        {
          "output_type": "stream",
          "text": [
            "Extracting mnist/train-images-idx3-ubyte.gz\n",
            "Extracting mnist/train-labels-idx1-ubyte.gz\n",
            "Extracting mnist/t10k-images-idx3-ubyte.gz\n",
            "Extracting mnist/t10k-labels-idx1-ubyte.gz\n"
          ],
          "name": "stdout"
        }
      ]
    },
    {
      "metadata": {
        "id": "5wkt5Vqlkph-",
        "colab_type": "code",
        "colab": {
          "base_uri": "https://localhost:8080/",
          "height": 143
        },
        "outputId": "4f4ee168-3f44-4bbc-b96a-0ed8d0e85060"
      },
      "cell_type": "code",
      "source": [
        "%%timeit\n",
        "# おまじない\n",
        "tf.reset_default_graph()\n",
        "\n",
        "# 入力層の作成\n",
        "net = tflearn.input_data(shape=[None, 784])\n",
        "\n",
        "# 中間層を３層作成\n",
        "net = tflearn.fully_connected(net, 20, activation = 'sigmoid', weight_decay = 0.001)\n",
        "net = tflearn.fully_connected(net, 20, activation = 'sigmoid', weight_decay = 0.001)\n",
        "net = tflearn.fully_connected(net, 20, activation = 'sigmoid', weight_decay = 0.001)\n",
        "\n",
        "# 出力層の作成\n",
        "net = tflearn.fully_connected(net, 10, activation = 'softmax')\n",
        "\n",
        "# 学習条件の設定\n",
        "net = tflearn.regression(net, optimizer='adam', loss = 'categorical_crossentropy')\n",
        "\n",
        "model = tflearn.DNN(net, tensorboard_verbose = 0)\n",
        "\n",
        "# トレーニング\n",
        "model.fit(X,Y,n_epoch = 20, batch_size=128 , shuffle=True, validation_set = (testX, testY))\n",
        "\n",
        "# テスト\n",
        "predictions = np.array(model.predict(testX)).argmax(axis=1)\n",
        "actual = testY.argmax(axis=1)\n",
        "test_accuracy = np.mean(predictions == actual, axis=0)\n",
        "print(\"Test accuracy: %f\" %test_accuracy)"
      ],
      "execution_count": 4,
      "outputs": [
        {
          "output_type": "stream",
          "text": [
            "Training Step: 8599  | total loss: \u001b[1m\u001b[32m0.44857\u001b[0m\u001b[0m | time: 2.673s\n",
            "| Adam | epoch: 020 | loss: 0.44857 -- iter: 54912/55000\n",
            "Training Step: 8600  | total loss: \u001b[1m\u001b[32m0.42104\u001b[0m\u001b[0m | time: 3.715s\n",
            "| Adam | epoch: 020 | loss: 0.42104 | val_loss: 0.26122 -- iter: 55000/55000\n",
            "--\n",
            "Test accuracy: 0.933600\n",
            "1 loop, best of 3: 1min 37s per loop\n"
          ],
          "name": "stdout"
        }
      ]
    },
    {
      "metadata": {
        "id": "IEt2F3D1lFzd",
        "colab_type": "code",
        "colab": {}
      },
      "cell_type": "code",
      "source": [
        ""
      ],
      "execution_count": 0,
      "outputs": []
    }
  ]
}