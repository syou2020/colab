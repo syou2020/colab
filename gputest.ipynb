{
  "nbformat": 4,
  "nbformat_minor": 0,
  "metadata": {
    "colab": {
      "name": "gputest.ipynb",
      "version": "0.3.2",
      "provenance": [],
      "include_colab_link": true
    },
    "kernelspec": {
      "name": "python3",
      "display_name": "Python 3"
    },
    "accelerator": "TPU"
  },
  "cells": [
    {
      "cell_type": "markdown",
      "metadata": {
        "id": "view-in-github",
        "colab_type": "text"
      },
      "source": [
        "<a href=\"https://colab.research.google.com/github/syou2020/colab/blob/master/gputest.ipynb\" target=\"_parent\"><img src=\"https://colab.research.google.com/assets/colab-badge.svg\" alt=\"Open In Colab\"/></a>"
      ]
    },
    {
      "metadata": {
        "id": "L4s5mY74a33E",
        "colab_type": "code",
        "colab": {}
      },
      "cell_type": "code",
      "source": [
        ""
      ],
      "execution_count": 0,
      "outputs": []
    },
    {
      "metadata": {
        "id": "d0KsyFBabU0D",
        "colab_type": "code",
        "outputId": "b7a742c3-e816-4d50-d1ca-42a1f1a84357",
        "colab": {
          "base_uri": "https://localhost:8080/",
          "height": 323
        }
      },
      "cell_type": "code",
      "source": [
        "! nvidia-smi"
      ],
      "execution_count": 0,
      "outputs": [
        {
          "output_type": "stream",
          "text": [
            "Thu Feb 28 14:07:00 2019       \n",
            "+-----------------------------------------------------------------------------+\n",
            "| NVIDIA-SMI 410.79       Driver Version: 410.79       CUDA Version: 10.0     |\n",
            "|-------------------------------+----------------------+----------------------+\n",
            "| GPU  Name        Persistence-M| Bus-Id        Disp.A | Volatile Uncorr. ECC |\n",
            "| Fan  Temp  Perf  Pwr:Usage/Cap|         Memory-Usage | GPU-Util  Compute M. |\n",
            "|===============================+======================+======================|\n",
            "|   0  Tesla K80           Off  | 00000000:00:04.0 Off |                    0 |\n",
            "| N/A   31C    P8    26W / 149W |      0MiB / 11441MiB |      0%      Default |\n",
            "+-------------------------------+----------------------+----------------------+\n",
            "                                                                               \n",
            "+-----------------------------------------------------------------------------+\n",
            "| Processes:                                                       GPU Memory |\n",
            "|  GPU       PID   Type   Process name                             Usage      |\n",
            "|=============================================================================|\n",
            "|  No running processes found                                                 |\n",
            "+-----------------------------------------------------------------------------+\n"
          ],
          "name": "stdout"
        }
      ]
    },
    {
      "metadata": {
        "id": "-pLpR-r0bgfZ",
        "colab_type": "code",
        "outputId": "508895b6-6626-489f-e4e8-ef7d3436da1f",
        "colab": {
          "base_uri": "https://localhost:8080/",
          "height": 503
        }
      },
      "cell_type": "code",
      "source": [
        "from tensorflow.python.client import device_lib\n",
        "device_lib.list_local_devices()"
      ],
      "execution_count": 0,
      "outputs": [
        {
          "output_type": "execute_result",
          "data": {
            "text/plain": [
              "[name: \"/device:CPU:0\"\n",
              " device_type: \"CPU\"\n",
              " memory_limit: 268435456\n",
              " locality {\n",
              " }\n",
              " incarnation: 18415634056773619128, name: \"/device:XLA_CPU:0\"\n",
              " device_type: \"XLA_CPU\"\n",
              " memory_limit: 17179869184\n",
              " locality {\n",
              " }\n",
              " incarnation: 13284606770806159996\n",
              " physical_device_desc: \"device: XLA_CPU device\", name: \"/device:XLA_GPU:0\"\n",
              " device_type: \"XLA_GPU\"\n",
              " memory_limit: 17179869184\n",
              " locality {\n",
              " }\n",
              " incarnation: 17115924844582652958\n",
              " physical_device_desc: \"device: XLA_GPU device\", name: \"/device:GPU:0\"\n",
              " device_type: \"GPU\"\n",
              " memory_limit: 11276884378\n",
              " locality {\n",
              "   bus_id: 1\n",
              "   links {\n",
              "   }\n",
              " }\n",
              " incarnation: 4086512718852742525\n",
              " physical_device_desc: \"device: 0, name: Tesla K80, pci bus id: 0000:00:04.0, compute capability: 3.7\"]"
            ]
          },
          "metadata": {
            "tags": []
          },
          "execution_count": 2
        }
      ]
    },
    {
      "metadata": {
        "id": "OcGn0wf8b4SU",
        "colab_type": "code",
        "outputId": "5660317d-c3be-4508-9ddf-1afd7d737ba9",
        "colab": {
          "base_uri": "https://localhost:8080/",
          "height": 397
        }
      },
      "cell_type": "code",
      "source": [
        "\n",
        "# TFLearnのインストール\n",
        "!pip install tflearn\n",
        " \n",
        "# 使用するライブラリのインポート\n",
        "import tflearn\n",
        "import tflearn.datasets.mnist as mnist\n",
        "import tensorflow as tf\n",
        "import numpy as np\n",
        " \n",
        "# MNISTのデータを./mnistへダウンロード＆各変数へ値を格納\n",
        "X,Y,testX,testY = mnist.load_data('mnist',one_hot=True)"
      ],
      "execution_count": 0,
      "outputs": [
        {
          "output_type": "stream",
          "text": [
            "Requirement already satisfied: tflearn in /usr/local/lib/python3.6/dist-packages (0.3.2)\n",
            "Requirement already satisfied: numpy in /usr/local/lib/python3.6/dist-packages (from tflearn) (1.14.6)\n",
            "Requirement already satisfied: six in /usr/local/lib/python3.6/dist-packages (from tflearn) (1.11.0)\n",
            "Requirement already satisfied: Pillow in /usr/local/lib/python3.6/dist-packages (from tflearn) (4.0.0)\n",
            "Requirement already satisfied: olefile in /usr/local/lib/python3.6/dist-packages (from Pillow->tflearn) (0.46)\n",
            "WARNING:tensorflow:From /usr/local/lib/python3.6/dist-packages/tensorflow/python/framework/op_def_library.py:263: colocate_with (from tensorflow.python.framework.ops) is deprecated and will be removed in a future version.\n",
            "Instructions for updating:\n",
            "Colocations handled automatically by placer.\n",
            "Downloading MNIST...\n",
            "Succesfully downloaded train-images-idx3-ubyte.gz 9912422 bytes.\n",
            "Extracting mnist/train-images-idx3-ubyte.gz\n",
            "Downloading MNIST...\n",
            "Succesfully downloaded train-labels-idx1-ubyte.gz 28881 bytes.\n",
            "Extracting mnist/train-labels-idx1-ubyte.gz\n",
            "Downloading MNIST...\n",
            "Succesfully downloaded t10k-images-idx3-ubyte.gz 1648877 bytes.\n",
            "Extracting mnist/t10k-images-idx3-ubyte.gz\n",
            "Downloading MNIST...\n",
            "Succesfully downloaded t10k-labels-idx1-ubyte.gz 4542 bytes.\n",
            "Extracting mnist/t10k-labels-idx1-ubyte.gz\n"
          ],
          "name": "stdout"
        }
      ]
    },
    {
      "metadata": {
        "id": "cuyz-802cTVP",
        "colab_type": "code",
        "outputId": "c60e684c-93dc-49d3-8d20-160405661d9c",
        "colab": {
          "base_uri": "https://localhost:8080/",
          "height": 143
        }
      },
      "cell_type": "code",
      "source": [
        "%%timeit\n",
        "# おまじない\n",
        "tf.reset_default_graph()\n",
        "\n",
        "# 入力層の作成\n",
        "net = tflearn.input_data(shape=[None, 784])\n",
        "\n",
        "# 中間層を３層作成\n",
        "net = tflearn.fully_connected(net, 20, activation = 'sigmoid', weight_decay = 0.001)\n",
        "net = tflearn.fully_connected(net, 20, activation = 'sigmoid', weight_decay = 0.001)\n",
        "net = tflearn.fully_connected(net, 20, activation = 'sigmoid', weight_decay = 0.001)\n",
        "\n",
        "# 出力層の作成\n",
        "net = tflearn.fully_connected(net, 10, activation = 'softmax')\n",
        "\n",
        "# 学習条件の設定\n",
        "net = tflearn.regression(net, optimizer='adam', loss = 'categorical_crossentropy')\n",
        "\n",
        "model = tflearn.DNN(net, tensorboard_verbose = 0)\n",
        "\n",
        "# トレーニング\n",
        "model.fit(X,Y,n_epoch = 20, batch_size=128 , shuffle=True, validation_set = (testX, testY))\n",
        "\n",
        "# テスト\n",
        "predictions = np.array(model.predict(testX)).argmax(axis=1)\n",
        "actual = testY.argmax(axis=1)\n",
        "test_accuracy = np.mean(predictions == actual, axis=0)\n",
        "print(\"Test accuracy: %f\" %test_accuracy)"
      ],
      "execution_count": 0,
      "outputs": [
        {
          "output_type": "stream",
          "text": [
            "Training Step: 8599  | total loss: \u001b[1m\u001b[32m0.41852\u001b[0m\u001b[0m | time: 3.564s\n",
            "| Adam | epoch: 020 | loss: 0.41852 -- iter: 54912/55000\n",
            "Training Step: 8600  | total loss: \u001b[1m\u001b[32m0.38951\u001b[0m\u001b[0m | time: 4.608s\n",
            "| Adam | epoch: 020 | loss: 0.38951 | val_loss: 0.23657 -- iter: 55000/55000\n",
            "--\n",
            "Test accuracy: 0.937600\n",
            "1 loop, best of 3: 1min 55s per loop\n"
          ],
          "name": "stdout"
        }
      ]
    },
    {
      "metadata": {
        "id": "ooG3vVBke6w1",
        "colab_type": "code",
        "colab": {}
      },
      "cell_type": "code",
      "source": [
        ""
      ],
      "execution_count": 0,
      "outputs": []
    },
    {
      "metadata": {
        "id": "zhjhQHa7e7pH",
        "colab_type": "code",
        "colab": {}
      },
      "cell_type": "code",
      "source": [
        "# TPU umtime"
      ],
      "execution_count": 0,
      "outputs": []
    },
    {
      "metadata": {
        "id": "2T6T7d9vcicO",
        "colab_type": "code",
        "outputId": "8c421e0b-7214-4dc9-f6d0-9d68bd93e899",
        "colab": {
          "base_uri": "https://localhost:8080/",
          "height": 35
        }
      },
      "cell_type": "code",
      "source": [
        "!nviida-smi"
      ],
      "execution_count": 0,
      "outputs": [
        {
          "output_type": "stream",
          "text": [
            "/bin/bash: nviida-smi: command not found\n"
          ],
          "name": "stdout"
        }
      ]
    },
    {
      "metadata": {
        "id": "S0NvfoyPgxjS",
        "colab_type": "code",
        "outputId": "c77897e1-3f8a-40bd-ef49-fa043d2b657e",
        "colab": {
          "base_uri": "https://localhost:8080/",
          "height": 233
        }
      },
      "cell_type": "code",
      "source": [
        "from tensorflow.python.client import device_lib\n",
        "device_lib.list_local_devices()"
      ],
      "execution_count": 0,
      "outputs": [
        {
          "output_type": "execute_result",
          "data": {
            "text/plain": [
              "[name: \"/device:CPU:0\"\n",
              " device_type: \"CPU\"\n",
              " memory_limit: 268435456\n",
              " locality {\n",
              " }\n",
              " incarnation: 3072498893945792199, name: \"/device:XLA_CPU:0\"\n",
              " device_type: \"XLA_CPU\"\n",
              " memory_limit: 17179869184\n",
              " locality {\n",
              " }\n",
              " incarnation: 10247646620441553167\n",
              " physical_device_desc: \"device: XLA_CPU device\"]"
            ]
          },
          "metadata": {
            "tags": []
          },
          "execution_count": 3
        }
      ]
    },
    {
      "metadata": {
        "id": "6_etMIC9g5PP",
        "colab_type": "code",
        "colab": {}
      },
      "cell_type": "code",
      "source": [
        ""
      ],
      "execution_count": 0,
      "outputs": []
    }
  ]
}